{
 "cells": [
  {
   "cell_type": "code",
   "execution_count": 2,
   "metadata": {},
   "outputs": [],
   "source": [
    "import tweepy\n",
    "import time\n",
    "import urllib.error\n",
    "import urllib.request\n",
    "import os\n",
    "from PIL import Image\n",
    "import io\n",
    "import pathlib\n",
    "import re\n",
    "import time\n",
    "import GyudonEval\n",
    "\n",
    "CK='TWcOlMbzB6awHNdGMWT8DSsAm'#consumer_key\n",
    "CS='W2O7fDxKum14iSZxCVQelHqRq7NhIYMAZKmeHEc4MFUn74K6RU'#consumer_secret\n",
    "AT='2854492458-Ujim42vkyKL8lgV62JtCVVqt1WeQoDlw29ABQYl'#access_token_key\n",
    "AS='Xa5X4pmVfVIsPxhNhpryE12FQ8UHpAv0SSAwCYyamqUzQ'#access_token_secret\n",
    "\n",
    "auth = tweepy.OAuthHandler(CK,CS)\n",
    "auth.set_access_token(AT,AS)\n",
    "api = tweepy.API(auth)"
   ]
  },
  {
   "cell_type": "code",
   "execution_count": 16,
   "metadata": {
    "scrolled": true
   },
   "outputs": [],
   "source": [
    "def test():\n",
    "    cnt=0\n",
    "    while True :\n",
    "        timeline = api.mentions_timeline(count=1)#count：一度に持ってくるツイートの数\n",
    "        for status in timeline:\n",
    "            status_id = status.id\n",
    "            screen_name = status.author.screen_name\n",
    "            print('user name :{}'.format(screen_name))\n",
    "            inp = status.text\n",
    "            print('message :{}'.format(inp))\n",
    "            if '@12shiki_pad' in inp:\n",
    "                print('\\\\\\\\\\\\\\\\\\\\\\\\')\n",
    "                print('to me')\n",
    "        if cnt==15:\n",
    "            print('request limit')\n",
    "            break\n",
    "        elif 'endyiddy' in inp:\n",
    "            print('message including end')\n",
    "            break\n",
    "        else:\n",
    "            print('now : {}' .format(cnt))\n",
    "            cnt += 1\n",
    "            time.sleep(15)"
   ]
  },
  {
   "cell_type": "code",
   "execution_count": 13,
   "metadata": {},
   "outputs": [
    {
     "name": "stdout",
     "output_type": "stream",
     "text": [
      "name: As,12shiki_pad \n",
      "tweet:@cyberkisi  牛丼 https://t.co/SRSHZId77S\n",
      "save as EcN61_XU4AI3Q4J.jpg\n",
      "save as tweet_img\\img_crop\\EcN61_XU4AI3Q4J.csv\n",
      "判定結果は『チー牛』です。\n",
      "チー牛\n",
      "reply: チー牛\n",
      "***************\n",
      "name: いつしき,cyberkisi \n",
      "tweet:@cyberkisi https://t.co/7sXQOiZ8PI\n",
      "no keyword\n",
      "***************\n",
      "name: いつしき,cyberkisi \n",
      "tweet:@cyberkisi 牛丼\n",
      "no media\n",
      "***************\n",
      "name: いつしき,cyberkisi \n",
      "tweet:@cyberkisi https://t.co/ku11kPFQsq\n",
      "no keyword\n",
      "***************\n",
      "name: いつしき,cyberkisi \n",
      "tweet:@cyberkisi https://t.co/A5oxixXM9t\n",
      "no keyword\n",
      "***************\n",
      "name: いつしき,cyberkisi \n",
      "tweet:@cyberkisi牛丼\n",
      "no media\n",
      "***************\n",
      "name: いつしき,cyberkisi \n",
      "tweet:@cyberkisi https://t.co/3RKhReY5Z2\n",
      "no keyword\n",
      "***************\n",
      "name: As,12shiki_pad \n",
      "tweet:@cyberkisi 牛丼 https://t.co/52o7hOQJvo\n",
      "save as EcL8lP0UYAAkXEY.jpg\n",
      "save as tweet_img\\img_crop\\EcL8lP0UYAAkXEY.csv\n",
      "判定結果は『牛丼』です。\n",
      "牛丼\n",
      "***************\n",
      "name: As,12shiki_pad \n",
      "tweet:@cyberkisi 牛丼 https://t.co/5wGViYQujB\n",
      "save as EcL8UNAVcAEFRip.jpg\n",
      "save as tweet_img\\img_crop\\EcL8UNAVcAEFRip.csv\n",
      "判定結果は『チー牛』です。\n",
      "チー牛\n",
      "***************\n",
      "name: いつしき,cyberkisi \n",
      "tweet:@cyberkisi https://t.co/t0wcF02vIm\n",
      "no keyword\n",
      "***************\n"
     ]
    }
   ],
   "source": [
    "def get_home_timeline():\n",
    "    status = api.home_timeline()\n",
    "    for i in range(0,10):\n",
    "        print(status[i].entities['media'][0]['media_url'])\n",
    "    \n",
    "def get_mention_timeline(count=10):\n",
    "    statuses = api.mentions_timeline(count=count)\n",
    "    for status in statuses:\n",
    "        print('name: {},{} \\ntweet:{}'.format(status.user.name,status.user.screen_name,status.text))\n",
    "        if '牛丼' in status.text:\n",
    "            try:\n",
    "                img_url = status.entities['media'][0]['media_url']\n",
    "                img_path = download_file(img_url)\n",
    "                result = GyudonEval.eval_gyudon(img_path)\n",
    "                print(result)\n",
    "                post_reply(status,result)\n",
    "            except KeyError :\n",
    "                print('no media')\n",
    "        else:\n",
    "            print('no keyword')\n",
    "        print('***************')\n",
    "get_mention_timeline(10)"
   ]
  },
  {
   "cell_type": "code",
   "execution_count": 12,
   "metadata": {},
   "outputs": [],
   "source": [
    "def download_file(url):\n",
    "    cnt = int(get_num('img'))\n",
    "    cnt += 1\n",
    "    img_name = url.replace('http://pbs.twimg.com/media/','')\n",
    "    dst_path='tweet_img\\\\{}'.format(img_name)\n",
    "    print('save as {}'.format(img_name))\n",
    "    try:\n",
    "        with urllib.request.urlopen(url) as web_file:\n",
    "            data = web_file.read()\n",
    "            with open(dst_path,mode='wb') as local_file:\n",
    "                local_file.write(data)\n",
    "    except urllib.error.URLError as e:\n",
    "        print(e)  \n",
    "    return dst_path\n",
    "        \n",
    "def get_num(dir_path):\n",
    "    f_num = '0'\n",
    "    p_temp = pathlib.Path(dir_path).glob('*.jpg')\n",
    "    if p_temp != '':\n",
    "        for p in p_temp:\n",
    "            f_num = re.sub('\\\\D','',p.name)\n",
    "    return f_num\n",
    "\n",
    "def post_reply(status,result):\n",
    "    screen_name = '@' + status.user.screen_name\n",
    "    try:\n",
    "        api.create_favorite(status.id)\n",
    "        if result=='チー牛':\n",
    "            rep_img = 'reply_img\\\\reply_cheese.jpg'\n",
    "            val = api.update_with_media(filename=rep_img,status=screen_name,in_reply_to_status_id=status.id)\n",
    "            print('reply: チー牛')\n",
    "        elif result=='牛丼':\n",
    "            val = api.update_status(screen_name + ' 牛丼')\n",
    "            print('reply: 牛丼')\n",
    "        else:\n",
    "            print('reply: not')\n",
    "    except :\n",
    "        if status == 139:\n",
    "              print('already favorite')\n",
    "    \n",
    "    \n",
    "    "
   ]
  },
  {
   "cell_type": "code",
   "execution_count": 21,
   "metadata": {},
   "outputs": [
    {
     "name": "stdout",
     "output_type": "stream",
     "text": [
      "いつしき\n",
      "いつしき\n",
      "いつしき\n",
      "いつしき\n",
      "いつしき\n"
     ]
    }
   ],
   "source": [
    "status = api.mentions_timeline(count=5)\n",
    "#post_reply(status,'チー牛')\n",
    "for sta in status:\n",
    "    print(sta.user.name)"
   ]
  },
  {
   "cell_type": "code",
   "execution_count": 33,
   "metadata": {},
   "outputs": [
    {
     "ename": "TweepError",
     "evalue": "[{'code': 187, 'message': 'Status is a duplicate.'}]",
     "output_type": "error",
     "traceback": [
      "\u001b[1;31m---------------------------------------------------------------------------\u001b[0m",
      "\u001b[1;31mTweepError\u001b[0m                                Traceback (most recent call last)",
      "\u001b[1;32m<ipython-input-33-79d8e1a8da13>\u001b[0m in \u001b[0;36m<module>\u001b[1;34m\u001b[0m\n\u001b[1;32m----> 1\u001b[1;33m \u001b[0mstatus\u001b[0m \u001b[1;33m=\u001b[0m \u001b[0mapi\u001b[0m\u001b[1;33m.\u001b[0m\u001b[0mupdate_status\u001b[0m\u001b[1;33m(\u001b[0m\u001b[1;34m'aiueok'\u001b[0m\u001b[1;33m)\u001b[0m\u001b[1;33m\u001b[0m\u001b[1;33m\u001b[0m\u001b[0m\n\u001b[0m\u001b[0;32m      2\u001b[0m \u001b[1;32mif\u001b[0m \u001b[0mstatus\u001b[0m\u001b[1;33m==\u001b[0m\u001b[1;36m400\u001b[0m\u001b[1;33m:\u001b[0m\u001b[1;33m\u001b[0m\u001b[1;33m\u001b[0m\u001b[0m\n\u001b[0;32m      3\u001b[0m     \u001b[0mprint\u001b[0m\u001b[1;33m(\u001b[0m\u001b[1;34m'post sucucess'\u001b[0m\u001b[1;33m)\u001b[0m\u001b[1;33m\u001b[0m\u001b[1;33m\u001b[0m\u001b[0m\n\u001b[0;32m      4\u001b[0m \u001b[1;32melse\u001b[0m\u001b[1;33m:\u001b[0m\u001b[1;33m\u001b[0m\u001b[1;33m\u001b[0m\u001b[0m\n\u001b[0;32m      5\u001b[0m     \u001b[0mprint\u001b[0m\u001b[1;33m(\u001b[0m\u001b[1;34m'error'\u001b[0m\u001b[1;33m)\u001b[0m\u001b[1;33m\u001b[0m\u001b[1;33m\u001b[0m\u001b[0m\n",
      "\u001b[1;32m~\\anaconda3\\lib\\site-packages\\tweepy\\api.py\u001b[0m in \u001b[0;36mupdate_status\u001b[1;34m(self, *args, **kwargs)\u001b[0m\n\u001b[0;32m    191\u001b[0m             \u001b[0mallowed_param\u001b[0m\u001b[1;33m=\u001b[0m\u001b[1;33m[\u001b[0m\u001b[1;34m'status'\u001b[0m\u001b[1;33m,\u001b[0m \u001b[1;34m'in_reply_to_status_id'\u001b[0m\u001b[1;33m,\u001b[0m \u001b[1;34m'in_reply_to_status_id_str'\u001b[0m\u001b[1;33m,\u001b[0m \u001b[1;34m'auto_populate_reply_metadata'\u001b[0m\u001b[1;33m,\u001b[0m \u001b[1;34m'lat'\u001b[0m\u001b[1;33m,\u001b[0m \u001b[1;34m'long'\u001b[0m\u001b[1;33m,\u001b[0m \u001b[1;34m'source'\u001b[0m\u001b[1;33m,\u001b[0m \u001b[1;34m'place_id'\u001b[0m\u001b[1;33m,\u001b[0m \u001b[1;34m'display_coordinates'\u001b[0m\u001b[1;33m]\u001b[0m\u001b[1;33m,\u001b[0m\u001b[1;33m\u001b[0m\u001b[1;33m\u001b[0m\u001b[0m\n\u001b[0;32m    192\u001b[0m             \u001b[0mrequire_auth\u001b[0m\u001b[1;33m=\u001b[0m\u001b[1;32mTrue\u001b[0m\u001b[1;33m\u001b[0m\u001b[1;33m\u001b[0m\u001b[0m\n\u001b[1;32m--> 193\u001b[1;33m         )(post_data=post_data, *args, **kwargs)\n\u001b[0m\u001b[0;32m    194\u001b[0m \u001b[1;33m\u001b[0m\u001b[0m\n\u001b[0;32m    195\u001b[0m     \u001b[1;32mdef\u001b[0m \u001b[0mmedia_upload\u001b[0m\u001b[1;33m(\u001b[0m\u001b[0mself\u001b[0m\u001b[1;33m,\u001b[0m \u001b[0mfilename\u001b[0m\u001b[1;33m,\u001b[0m \u001b[1;33m*\u001b[0m\u001b[0margs\u001b[0m\u001b[1;33m,\u001b[0m \u001b[1;33m**\u001b[0m\u001b[0mkwargs\u001b[0m\u001b[1;33m)\u001b[0m\u001b[1;33m:\u001b[0m\u001b[1;33m\u001b[0m\u001b[1;33m\u001b[0m\u001b[0m\n",
      "\u001b[1;32m~\\anaconda3\\lib\\site-packages\\tweepy\\binder.py\u001b[0m in \u001b[0;36m_call\u001b[1;34m(*args, **kwargs)\u001b[0m\n\u001b[0;32m    248\u001b[0m                 \u001b[1;32mreturn\u001b[0m \u001b[0mmethod\u001b[0m\u001b[1;33m\u001b[0m\u001b[1;33m\u001b[0m\u001b[0m\n\u001b[0;32m    249\u001b[0m             \u001b[1;32melse\u001b[0m\u001b[1;33m:\u001b[0m\u001b[1;33m\u001b[0m\u001b[1;33m\u001b[0m\u001b[0m\n\u001b[1;32m--> 250\u001b[1;33m                 \u001b[1;32mreturn\u001b[0m \u001b[0mmethod\u001b[0m\u001b[1;33m.\u001b[0m\u001b[0mexecute\u001b[0m\u001b[1;33m(\u001b[0m\u001b[1;33m)\u001b[0m\u001b[1;33m\u001b[0m\u001b[1;33m\u001b[0m\u001b[0m\n\u001b[0m\u001b[0;32m    251\u001b[0m         \u001b[1;32mfinally\u001b[0m\u001b[1;33m:\u001b[0m\u001b[1;33m\u001b[0m\u001b[1;33m\u001b[0m\u001b[0m\n\u001b[0;32m    252\u001b[0m             \u001b[0mmethod\u001b[0m\u001b[1;33m.\u001b[0m\u001b[0msession\u001b[0m\u001b[1;33m.\u001b[0m\u001b[0mclose\u001b[0m\u001b[1;33m(\u001b[0m\u001b[1;33m)\u001b[0m\u001b[1;33m\u001b[0m\u001b[1;33m\u001b[0m\u001b[0m\n",
      "\u001b[1;32m~\\anaconda3\\lib\\site-packages\\tweepy\\binder.py\u001b[0m in \u001b[0;36mexecute\u001b[1;34m(self)\u001b[0m\n\u001b[0;32m    231\u001b[0m                     \u001b[1;32mraise\u001b[0m \u001b[0mRateLimitError\u001b[0m\u001b[1;33m(\u001b[0m\u001b[0merror_msg\u001b[0m\u001b[1;33m,\u001b[0m \u001b[0mresp\u001b[0m\u001b[1;33m)\u001b[0m\u001b[1;33m\u001b[0m\u001b[1;33m\u001b[0m\u001b[0m\n\u001b[0;32m    232\u001b[0m                 \u001b[1;32melse\u001b[0m\u001b[1;33m:\u001b[0m\u001b[1;33m\u001b[0m\u001b[1;33m\u001b[0m\u001b[0m\n\u001b[1;32m--> 233\u001b[1;33m                     \u001b[1;32mraise\u001b[0m \u001b[0mTweepError\u001b[0m\u001b[1;33m(\u001b[0m\u001b[0merror_msg\u001b[0m\u001b[1;33m,\u001b[0m \u001b[0mresp\u001b[0m\u001b[1;33m,\u001b[0m \u001b[0mapi_code\u001b[0m\u001b[1;33m=\u001b[0m\u001b[0mapi_error_code\u001b[0m\u001b[1;33m)\u001b[0m\u001b[1;33m\u001b[0m\u001b[1;33m\u001b[0m\u001b[0m\n\u001b[0m\u001b[0;32m    234\u001b[0m \u001b[1;33m\u001b[0m\u001b[0m\n\u001b[0;32m    235\u001b[0m             \u001b[1;31m# Parse the response payload\u001b[0m\u001b[1;33m\u001b[0m\u001b[1;33m\u001b[0m\u001b[1;33m\u001b[0m\u001b[0m\n",
      "\u001b[1;31mTweepError\u001b[0m: [{'code': 187, 'message': 'Status is a duplicate.'}]"
     ]
    }
   ],
   "source": [
    "status = api.update_status('aiueok')\n",
    "if status==400:\n",
    "    print('post sucucess')\n",
    "else:\n",
    "    print('error')\n",
    "    \n",
    "status"
   ]
  },
  {
   "cell_type": "code",
   "execution_count": null,
   "metadata": {},
   "outputs": [],
   "source": []
  }
 ],
 "metadata": {
  "kernelspec": {
   "display_name": "Python 3",
   "language": "python",
   "name": "python3"
  },
  "language_info": {
   "codemirror_mode": {
    "name": "ipython",
    "version": 3
   },
   "file_extension": ".py",
   "mimetype": "text/x-python",
   "name": "python",
   "nbconvert_exporter": "python",
   "pygments_lexer": "ipython3",
   "version": "3.7.7"
  }
 },
 "nbformat": 4,
 "nbformat_minor": 4
}

{
 "cells": [
  {
   "cell_type": "code",
   "execution_count": 11,
   "metadata": {},
   "outputs": [
    {
     "name": "stdout",
     "output_type": "stream",
     "text": [
      " 184 249  37  46 246 212 217  90\n",
      " 136  39 143 109  38 119  50   1\n",
      " 170 162 128  60  89  56 138  85\n",
      "   8 114  31  31  66  40   2 199\n",
      "  45 128  49 219 180  89 220 213\n",
      " 177  13 170 158  81 104 203 218\n",
      " 105 118 112 232  34 136  76  25\n",
      "  87  41  31 121 142 104 111 144\n"
     ]
    }
   ],
   "source": [
    "import numpy as np\n",
    "import numpy.random as nr\n",
    "\n",
    "data=nr.randint(0,255,(8,8))\n",
    "\n",
    "for yd in range(8):\n",
    "    for xd in range(8):\n",
    "        print('{:4d}'.format(data[yd,xd]),end='')\n",
    "    print('')"
   ]
  },
  {
   "cell_type": "code",
   "execution_count": 23,
   "metadata": {},
   "outputs": [],
   "source": [
    "data = np.zeros((8,8),np.uint8)\n",
    "for i in range(8):\n",
    "    for j in range(8):\n",
    "        data[i][j] = i*8+j\n",
    "        \n",
    "nu = [nu for nu in range(64)]"
   ]
  },
  {
   "cell_type": "code",
   "execution_count": 30,
   "metadata": {},
   "outputs": [
    {
     "data": {
      "text/plain": [
       "array([[ 0, 62,  0,  0,  0,  0,  0,  0],\n",
       "       [63, 61,  0,  0,  0,  0,  0,  0],\n",
       "       [63,  0,  0,  0,  0,  0,  0,  0],\n",
       "       [ 0,  0,  0,  0,  0,  0,  0,  0],\n",
       "       [ 0,  0,  0,  0,  0,  0,  0,  0],\n",
       "       [ 0,  0,  0,  0,  0,  0,  0,  0],\n",
       "       [ 0,  0,  0,  0,  0,  0,  0,  0],\n",
       "       [ 0,  0,  0,  0,  0,  0,  0,  0]], dtype=uint8)"
      ]
     },
     "execution_count": 30,
     "metadata": {},
     "output_type": "execute_result"
    }
   ],
   "source": [
    "q1 = np.zeros((8,8),np.uint8)\n",
    "x = 0\n",
    "y = 0\n",
    "cnt = 0\n",
    "flag = 0\n",
    "q1[x][y] = nu[cnt]\n",
    "x += 1\n",
    "for cnt in range(64):\n",
    "\n",
    "    if x == 0:\n",
    "        y =+ 1\n",
    "        q1[x][y] = nu[cnt]        \n",
    "        flag = 1\n",
    "    elif y == 0:\n",
    "        x +=1\n",
    "        q1[x][y] = nu[cnt]        \n",
    "        flag = 0\n",
    "    if flag == 1:\n",
    "        q1[x][y] = nu[cnt]\n",
    "        x += 1\n",
    "        y -= 1\n",
    "        cnt += 1\n",
    "    elif flag == 0 : \n",
    "        q1[x][y] = nu[cnt]\n",
    "        x -= 1\n",
    "        y += 1\n",
    "        cnt += 1\n",
    "        \n",
    "\n",
    "q1\n",
    "    "
   ]
  },
  {
   "cell_type": "code",
   "execution_count": null,
   "metadata": {},
   "outputs": [],
   "source": []
  }
 ],
 "metadata": {
  "kernelspec": {
   "display_name": "Python 3",
   "language": "python",
   "name": "python3"
  },
  "language_info": {
   "codemirror_mode": {
    "name": "ipython",
    "version": 3
   },
   "file_extension": ".py",
   "mimetype": "text/x-python",
   "name": "python",
   "nbconvert_exporter": "python",
   "pygments_lexer": "ipython3",
   "version": "3.7.7"
  }
 },
 "nbformat": 4,
 "nbformat_minor": 4
}

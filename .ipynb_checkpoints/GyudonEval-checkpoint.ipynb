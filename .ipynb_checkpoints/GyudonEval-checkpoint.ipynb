{
 "cells": [
  {
   "cell_type": "code",
   "execution_count": 1,
   "metadata": {},
   "outputs": [
    {
     "name": "stdout",
     "output_type": "stream",
     "text": [
      "判定結果は『チー牛』です。\n"
     ]
    }
   ],
   "source": [
    "import argparse\n",
    "import os\n",
    "import sys\n",
    "import numpy as np\n",
    "import cv2\n",
    "from PIL import Image\n",
    "import chainer\n",
    "import chainer.functions as F\n",
    "import chainer.links as L\n",
    "import CroppingGyudon\n",
    "\n",
    "cat = ['チー牛','牛丼']\n",
    "\n",
    "class CNN(chainer.Chain):\n",
    "    def __init__(self, n_out):\n",
    "        super(CNN, self).__init__(                        \n",
    "            conv1=L.Convolution2D(3, 16, 5, 1, 0), # 1層目の畳み込み層（フィルタ数は16）\n",
    "            conv2=L.Convolution2D(16, 32, 5, 1, 0), # 2層目の畳み込み層（フィルタ数は32）\n",
    "            conv3=L.Convolution2D(32, 64, 5, 1, 0), # 3層目の畳み込み層（フィルタ数は64）\n",
    "            l4=L.Linear(None, n_out), #クラス分類用\n",
    "        )\n",
    "    \n",
    "    def __call__(self, x):\n",
    "        h1 = F.max_pooling_2d(F.relu(self.conv1(x)), ksize=2, stride=2) # 最大値プーリングは2×2，活性化関数はReLU\n",
    "        h2 = F.max_pooling_2d(F.relu(self.conv2(h1)), ksize=2, stride=2) \n",
    "        h3 = F.max_pooling_2d(F.relu(self.conv3(h2)), ksize=2, stride=2)\n",
    "        return self.l4(h3)\n",
    "    \n",
    "def eval_gyudon(image):\n",
    "    models = 'Gyudon.model'\n",
    "    image = 'eval\\\\eval5.jpg'\n",
    "    size = 400\n",
    "    \n",
    "    model = L.Classifier(CNN(2)) # モデルの定義\n",
    "    chainer.serializers.load_npz(models, model) #モデルの読み込み\n",
    "\n",
    "    img = Image.open(image)\n",
    "    img_csv = CroppingGyudon.draw_contours_C(image,None)\n",
    "    img_crop = img.crop((CroppingGyudon.cal_maxmin(img_csv)))\n",
    "    img_resize = img_crop.resize((size,size))\n",
    "    img_resize.save('eval.jpg', 'JPEG', quality=100, optimize=True)\n",
    "    evaldata = np.array(img_resize, dtype=np.float32)\n",
    "    evaldata = evaldata.transpose(2, 0, 1)\n",
    "    evaldata = evaldata.reshape(1, 3, size, size) \n",
    "\n",
    "    x = chainer.Variable(np.asarray(evaldata))\n",
    "    y = model.predictor(x) # フォワード\n",
    "    c = F.softmax(y).data.argmax() \n",
    "    print('判定結果は『{}』です。'.format(cat[c]))\n"
   ]
  }
 ],
 "metadata": {
  "kernelspec": {
   "display_name": "Python 3",
   "language": "python",
   "name": "python3"
  },
  "language_info": {
   "codemirror_mode": {
    "name": "ipython",
    "version": 3
   },
   "file_extension": ".py",
   "mimetype": "text/x-python",
   "name": "python",
   "nbconvert_exporter": "python",
   "pygments_lexer": "ipython3",
   "version": "3.7.7"
  }
 },
 "nbformat": 4,
 "nbformat_minor": 4
}

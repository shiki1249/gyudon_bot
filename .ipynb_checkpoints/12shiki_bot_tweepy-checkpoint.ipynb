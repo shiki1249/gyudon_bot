{
 "cells": [
  {
   "cell_type": "code",
   "execution_count": 135,
   "metadata": {},
   "outputs": [],
   "source": [
    "import tweepy\n",
    "import time\n",
    "import urllib.error\n",
    "import urllib.request\n",
    "import os\n",
    "from PIL import Image\n",
    "import io\n",
    "\n",
    "CK='EaABEoxTlajHIuxXOQZ5dUtYT'#consumer_key\n",
    "CS='qwQrIwzX0Ftdi8Th982vtaHlhPxhujgBDp7JJgYQprITOG4yGu'#consumer_secret\n",
    "AT='2838916952-gm0fJFPTn2lpQolYe1klUUgjr2KC75nWQsZXfQp'#access_token_key\n",
    "AS='3PYHBBtrSqIaePqB91FDemljf0lMU1LbVFX3cgBrRwQqO'#access_token_secret\n",
    "\n",
    "auth = tweepy.OAuthHandler(CK,CS)\n",
    "auth.set_access_token(AT,AS)\n",
    "api = tweepy.API(auth)"
   ]
  },
  {
   "cell_type": "code",
   "execution_count": 6,
   "metadata": {},
   "outputs": [
    {
     "name": "stdout",
     "output_type": "stream",
     "text": [
      "user name :39Ra_44No\n",
      "message :@12shiki_pad 最後らへんちょっと意識飛んだ笑\n"
     ]
    },
    {
     "ename": "ValueError",
     "evalue": "unknown url type: '最後らへんちょっと意識飛んだ笑'",
     "output_type": "error",
     "traceback": [
      "\u001b[1;31m---------------------------------------------------------------------------\u001b[0m",
      "\u001b[1;31mValueError\u001b[0m                                Traceback (most recent call last)",
      "\u001b[1;32m<ipython-input-6-d417370f208a>\u001b[0m in \u001b[0;36m<module>\u001b[1;34m\u001b[0m\n\u001b[0;32m     32\u001b[0m         \u001b[0minp\u001b[0m \u001b[1;33m=\u001b[0m \u001b[0mstatus\u001b[0m\u001b[1;33m.\u001b[0m\u001b[0mtext\u001b[0m\u001b[1;33m\u001b[0m\u001b[1;33m\u001b[0m\u001b[0m\n\u001b[0;32m     33\u001b[0m         \u001b[0mprint\u001b[0m\u001b[1;33m(\u001b[0m\u001b[1;34m'message :{}'\u001b[0m\u001b[1;33m.\u001b[0m\u001b[0mformat\u001b[0m\u001b[1;33m(\u001b[0m\u001b[0minp\u001b[0m\u001b[1;33m)\u001b[0m\u001b[1;33m)\u001b[0m\u001b[1;33m\u001b[0m\u001b[1;33m\u001b[0m\u001b[0m\n\u001b[1;32m---> 34\u001b[1;33m         \u001b[0msave_image\u001b[0m\u001b[1;33m(\u001b[0m\u001b[1;33m)\u001b[0m\u001b[1;33m\u001b[0m\u001b[1;33m\u001b[0m\u001b[0m\n\u001b[0m\u001b[0;32m     35\u001b[0m         ''' if '@12shiki_pad' in inp:\n\u001b[0;32m     36\u001b[0m             \u001b[0mprint\u001b[0m\u001b[1;33m(\u001b[0m\u001b[1;34m'\\\\\\\\\\\\\\\\\\\\\\\\'\u001b[0m\u001b[1;33m)\u001b[0m\u001b[1;33m\u001b[0m\u001b[1;33m\u001b[0m\u001b[0m\n",
      "\u001b[1;32m<ipython-input-6-d417370f208a>\u001b[0m in \u001b[0;36msave_image\u001b[1;34m()\u001b[0m\n\u001b[0;32m     14\u001b[0m \u001b[1;31m#urllib.request.urlretrieve(img_url,dst_path)\u001b[0m\u001b[1;33m\u001b[0m\u001b[1;33m\u001b[0m\u001b[1;33m\u001b[0m\u001b[0m\n\u001b[0;32m     15\u001b[0m     \u001b[0mdst_path\u001b[0m \u001b[1;33m=\u001b[0m \u001b[1;34m'img/py1.jpg'\u001b[0m\u001b[1;33m\u001b[0m\u001b[1;33m\u001b[0m\u001b[0m\n\u001b[1;32m---> 16\u001b[1;33m     \u001b[0mdownload_file\u001b[0m\u001b[1;33m(\u001b[0m\u001b[0murl\u001b[0m\u001b[1;33m,\u001b[0m\u001b[0mdst_path\u001b[0m\u001b[1;33m)\u001b[0m\u001b[1;33m\u001b[0m\u001b[1;33m\u001b[0m\u001b[0m\n\u001b[0m\u001b[0;32m     17\u001b[0m \u001b[1;33m\u001b[0m\u001b[0m\n\u001b[0;32m     18\u001b[0m \u001b[1;32mdef\u001b[0m \u001b[0mdownload_file\u001b[0m\u001b[1;33m(\u001b[0m\u001b[0murl\u001b[0m\u001b[1;33m,\u001b[0m\u001b[0mdst_path\u001b[0m\u001b[1;33m)\u001b[0m\u001b[1;33m:\u001b[0m\u001b[1;31m#指定urlの画像のダウンロード\u001b[0m\u001b[1;33m\u001b[0m\u001b[1;33m\u001b[0m\u001b[0m\n",
      "\u001b[1;32m<ipython-input-6-d417370f208a>\u001b[0m in \u001b[0;36mdownload_file\u001b[1;34m(url, dst_path)\u001b[0m\n\u001b[0;32m     18\u001b[0m \u001b[1;32mdef\u001b[0m \u001b[0mdownload_file\u001b[0m\u001b[1;33m(\u001b[0m\u001b[0murl\u001b[0m\u001b[1;33m,\u001b[0m\u001b[0mdst_path\u001b[0m\u001b[1;33m)\u001b[0m\u001b[1;33m:\u001b[0m\u001b[1;31m#指定urlの画像のダウンロード\u001b[0m\u001b[1;33m\u001b[0m\u001b[1;33m\u001b[0m\u001b[0m\n\u001b[0;32m     19\u001b[0m     \u001b[1;32mtry\u001b[0m\u001b[1;33m:\u001b[0m\u001b[1;33m\u001b[0m\u001b[1;33m\u001b[0m\u001b[0m\n\u001b[1;32m---> 20\u001b[1;33m         \u001b[1;32mwith\u001b[0m \u001b[0murllib\u001b[0m\u001b[1;33m.\u001b[0m\u001b[0mrequest\u001b[0m\u001b[1;33m.\u001b[0m\u001b[0murlopen\u001b[0m\u001b[1;33m(\u001b[0m\u001b[0murl\u001b[0m\u001b[1;33m)\u001b[0m \u001b[1;32mas\u001b[0m \u001b[0mweb_file\u001b[0m\u001b[1;33m:\u001b[0m\u001b[1;33m\u001b[0m\u001b[1;33m\u001b[0m\u001b[0m\n\u001b[0m\u001b[0;32m     21\u001b[0m             \u001b[0mdata\u001b[0m \u001b[1;33m=\u001b[0m \u001b[0mweb_file\u001b[0m\u001b[1;33m.\u001b[0m\u001b[0mread\u001b[0m\u001b[1;33m(\u001b[0m\u001b[1;33m)\u001b[0m\u001b[1;33m\u001b[0m\u001b[1;33m\u001b[0m\u001b[0m\n\u001b[0;32m     22\u001b[0m             \u001b[1;32mwith\u001b[0m \u001b[0mopen\u001b[0m\u001b[1;33m(\u001b[0m\u001b[0mdst_path\u001b[0m\u001b[1;33m,\u001b[0m\u001b[0mmode\u001b[0m\u001b[1;33m=\u001b[0m\u001b[1;34m'wb'\u001b[0m\u001b[1;33m)\u001b[0m \u001b[1;32mas\u001b[0m \u001b[0mlocal_file\u001b[0m\u001b[1;33m:\u001b[0m\u001b[1;33m\u001b[0m\u001b[1;33m\u001b[0m\u001b[0m\n",
      "\u001b[1;32m~\\anaconda3\\lib\\urllib\\request.py\u001b[0m in \u001b[0;36murlopen\u001b[1;34m(url, data, timeout, cafile, capath, cadefault, context)\u001b[0m\n\u001b[0;32m    220\u001b[0m     \u001b[1;32melse\u001b[0m\u001b[1;33m:\u001b[0m\u001b[1;33m\u001b[0m\u001b[1;33m\u001b[0m\u001b[0m\n\u001b[0;32m    221\u001b[0m         \u001b[0mopener\u001b[0m \u001b[1;33m=\u001b[0m \u001b[0m_opener\u001b[0m\u001b[1;33m\u001b[0m\u001b[1;33m\u001b[0m\u001b[0m\n\u001b[1;32m--> 222\u001b[1;33m     \u001b[1;32mreturn\u001b[0m \u001b[0mopener\u001b[0m\u001b[1;33m.\u001b[0m\u001b[0mopen\u001b[0m\u001b[1;33m(\u001b[0m\u001b[0murl\u001b[0m\u001b[1;33m,\u001b[0m \u001b[0mdata\u001b[0m\u001b[1;33m,\u001b[0m \u001b[0mtimeout\u001b[0m\u001b[1;33m)\u001b[0m\u001b[1;33m\u001b[0m\u001b[1;33m\u001b[0m\u001b[0m\n\u001b[0m\u001b[0;32m    223\u001b[0m \u001b[1;33m\u001b[0m\u001b[0m\n\u001b[0;32m    224\u001b[0m \u001b[1;32mdef\u001b[0m \u001b[0minstall_opener\u001b[0m\u001b[1;33m(\u001b[0m\u001b[0mopener\u001b[0m\u001b[1;33m)\u001b[0m\u001b[1;33m:\u001b[0m\u001b[1;33m\u001b[0m\u001b[1;33m\u001b[0m\u001b[0m\n",
      "\u001b[1;32m~\\anaconda3\\lib\\urllib\\request.py\u001b[0m in \u001b[0;36mopen\u001b[1;34m(self, fullurl, data, timeout)\u001b[0m\n\u001b[0;32m    508\u001b[0m         \u001b[1;31m# accept a URL or a Request object\u001b[0m\u001b[1;33m\u001b[0m\u001b[1;33m\u001b[0m\u001b[1;33m\u001b[0m\u001b[0m\n\u001b[0;32m    509\u001b[0m         \u001b[1;32mif\u001b[0m \u001b[0misinstance\u001b[0m\u001b[1;33m(\u001b[0m\u001b[0mfullurl\u001b[0m\u001b[1;33m,\u001b[0m \u001b[0mstr\u001b[0m\u001b[1;33m)\u001b[0m\u001b[1;33m:\u001b[0m\u001b[1;33m\u001b[0m\u001b[1;33m\u001b[0m\u001b[0m\n\u001b[1;32m--> 510\u001b[1;33m             \u001b[0mreq\u001b[0m \u001b[1;33m=\u001b[0m \u001b[0mRequest\u001b[0m\u001b[1;33m(\u001b[0m\u001b[0mfullurl\u001b[0m\u001b[1;33m,\u001b[0m \u001b[0mdata\u001b[0m\u001b[1;33m)\u001b[0m\u001b[1;33m\u001b[0m\u001b[1;33m\u001b[0m\u001b[0m\n\u001b[0m\u001b[0;32m    511\u001b[0m         \u001b[1;32melse\u001b[0m\u001b[1;33m:\u001b[0m\u001b[1;33m\u001b[0m\u001b[1;33m\u001b[0m\u001b[0m\n\u001b[0;32m    512\u001b[0m             \u001b[0mreq\u001b[0m \u001b[1;33m=\u001b[0m \u001b[0mfullurl\u001b[0m\u001b[1;33m\u001b[0m\u001b[1;33m\u001b[0m\u001b[0m\n",
      "\u001b[1;32m~\\anaconda3\\lib\\urllib\\request.py\u001b[0m in \u001b[0;36m__init__\u001b[1;34m(self, url, data, headers, origin_req_host, unverifiable, method)\u001b[0m\n\u001b[0;32m    326\u001b[0m                  \u001b[0morigin_req_host\u001b[0m\u001b[1;33m=\u001b[0m\u001b[1;32mNone\u001b[0m\u001b[1;33m,\u001b[0m \u001b[0munverifiable\u001b[0m\u001b[1;33m=\u001b[0m\u001b[1;32mFalse\u001b[0m\u001b[1;33m,\u001b[0m\u001b[1;33m\u001b[0m\u001b[1;33m\u001b[0m\u001b[0m\n\u001b[0;32m    327\u001b[0m                  method=None):\n\u001b[1;32m--> 328\u001b[1;33m         \u001b[0mself\u001b[0m\u001b[1;33m.\u001b[0m\u001b[0mfull_url\u001b[0m \u001b[1;33m=\u001b[0m \u001b[0murl\u001b[0m\u001b[1;33m\u001b[0m\u001b[1;33m\u001b[0m\u001b[0m\n\u001b[0m\u001b[0;32m    329\u001b[0m         \u001b[0mself\u001b[0m\u001b[1;33m.\u001b[0m\u001b[0mheaders\u001b[0m \u001b[1;33m=\u001b[0m \u001b[1;33m{\u001b[0m\u001b[1;33m}\u001b[0m\u001b[1;33m\u001b[0m\u001b[1;33m\u001b[0m\u001b[0m\n\u001b[0;32m    330\u001b[0m         \u001b[0mself\u001b[0m\u001b[1;33m.\u001b[0m\u001b[0munredirected_hdrs\u001b[0m \u001b[1;33m=\u001b[0m \u001b[1;33m{\u001b[0m\u001b[1;33m}\u001b[0m\u001b[1;33m\u001b[0m\u001b[1;33m\u001b[0m\u001b[0m\n",
      "\u001b[1;32m~\\anaconda3\\lib\\urllib\\request.py\u001b[0m in \u001b[0;36mfull_url\u001b[1;34m(self, url)\u001b[0m\n\u001b[0;32m    352\u001b[0m         \u001b[0mself\u001b[0m\u001b[1;33m.\u001b[0m\u001b[0m_full_url\u001b[0m \u001b[1;33m=\u001b[0m \u001b[0munwrap\u001b[0m\u001b[1;33m(\u001b[0m\u001b[0murl\u001b[0m\u001b[1;33m)\u001b[0m\u001b[1;33m\u001b[0m\u001b[1;33m\u001b[0m\u001b[0m\n\u001b[0;32m    353\u001b[0m         \u001b[0mself\u001b[0m\u001b[1;33m.\u001b[0m\u001b[0m_full_url\u001b[0m\u001b[1;33m,\u001b[0m \u001b[0mself\u001b[0m\u001b[1;33m.\u001b[0m\u001b[0mfragment\u001b[0m \u001b[1;33m=\u001b[0m \u001b[0msplittag\u001b[0m\u001b[1;33m(\u001b[0m\u001b[0mself\u001b[0m\u001b[1;33m.\u001b[0m\u001b[0m_full_url\u001b[0m\u001b[1;33m)\u001b[0m\u001b[1;33m\u001b[0m\u001b[1;33m\u001b[0m\u001b[0m\n\u001b[1;32m--> 354\u001b[1;33m         \u001b[0mself\u001b[0m\u001b[1;33m.\u001b[0m\u001b[0m_parse\u001b[0m\u001b[1;33m(\u001b[0m\u001b[1;33m)\u001b[0m\u001b[1;33m\u001b[0m\u001b[1;33m\u001b[0m\u001b[0m\n\u001b[0m\u001b[0;32m    355\u001b[0m \u001b[1;33m\u001b[0m\u001b[0m\n\u001b[0;32m    356\u001b[0m     \u001b[1;33m@\u001b[0m\u001b[0mfull_url\u001b[0m\u001b[1;33m.\u001b[0m\u001b[0mdeleter\u001b[0m\u001b[1;33m\u001b[0m\u001b[1;33m\u001b[0m\u001b[0m\n",
      "\u001b[1;32m~\\anaconda3\\lib\\urllib\\request.py\u001b[0m in \u001b[0;36m_parse\u001b[1;34m(self)\u001b[0m\n\u001b[0;32m    381\u001b[0m         \u001b[0mself\u001b[0m\u001b[1;33m.\u001b[0m\u001b[0mtype\u001b[0m\u001b[1;33m,\u001b[0m \u001b[0mrest\u001b[0m \u001b[1;33m=\u001b[0m \u001b[0msplittype\u001b[0m\u001b[1;33m(\u001b[0m\u001b[0mself\u001b[0m\u001b[1;33m.\u001b[0m\u001b[0m_full_url\u001b[0m\u001b[1;33m)\u001b[0m\u001b[1;33m\u001b[0m\u001b[1;33m\u001b[0m\u001b[0m\n\u001b[0;32m    382\u001b[0m         \u001b[1;32mif\u001b[0m \u001b[0mself\u001b[0m\u001b[1;33m.\u001b[0m\u001b[0mtype\u001b[0m \u001b[1;32mis\u001b[0m \u001b[1;32mNone\u001b[0m\u001b[1;33m:\u001b[0m\u001b[1;33m\u001b[0m\u001b[1;33m\u001b[0m\u001b[0m\n\u001b[1;32m--> 383\u001b[1;33m             \u001b[1;32mraise\u001b[0m \u001b[0mValueError\u001b[0m\u001b[1;33m(\u001b[0m\u001b[1;34m\"unknown url type: %r\"\u001b[0m \u001b[1;33m%\u001b[0m \u001b[0mself\u001b[0m\u001b[1;33m.\u001b[0m\u001b[0mfull_url\u001b[0m\u001b[1;33m)\u001b[0m\u001b[1;33m\u001b[0m\u001b[1;33m\u001b[0m\u001b[0m\n\u001b[0m\u001b[0;32m    384\u001b[0m         \u001b[0mself\u001b[0m\u001b[1;33m.\u001b[0m\u001b[0mhost\u001b[0m\u001b[1;33m,\u001b[0m \u001b[0mself\u001b[0m\u001b[1;33m.\u001b[0m\u001b[0mselector\u001b[0m \u001b[1;33m=\u001b[0m \u001b[0msplithost\u001b[0m\u001b[1;33m(\u001b[0m\u001b[0mrest\u001b[0m\u001b[1;33m)\u001b[0m\u001b[1;33m\u001b[0m\u001b[1;33m\u001b[0m\u001b[0m\n\u001b[0;32m    385\u001b[0m         \u001b[1;32mif\u001b[0m \u001b[0mself\u001b[0m\u001b[1;33m.\u001b[0m\u001b[0mhost\u001b[0m\u001b[1;33m:\u001b[0m\u001b[1;33m\u001b[0m\u001b[1;33m\u001b[0m\u001b[0m\n",
      "\u001b[1;31mValueError\u001b[0m: unknown url type: '最後らへんちょっと意識飛んだ笑'"
     ]
    }
   ],
   "source": [
    "cnt=0\n",
    "def save_image():\n",
    "    url = inp.replace('@12shiki_pad','')#メンションの削除\n",
    "    search_results = tweepy.Cursor(api.mentions_timeline,screen_name='@12shiki_pad')\n",
    "\n",
    "    try:\n",
    "        img_url = search_results.extended_entities['media'][0]['media_url']\n",
    "        dst_path = 'img/{}.png'.format(i)\n",
    "        download_file(img_url,dst_path)\n",
    "        i += 1\n",
    "        sleep(1)\n",
    "    except:\n",
    "        pass\n",
    "#urllib.request.urlretrieve(img_url,dst_path)\n",
    "    dst_path = 'img/py1.jpg'\n",
    "    download_file(url,dst_path) \n",
    "   \n",
    "def download_file(url,dst_path):#指定urlの画像のダウンロード\n",
    "    try:\n",
    "        with urllib.request.urlopen(url) as web_file:\n",
    "            data = web_file.read()\n",
    "            with open(dst_path,mode='wb') as local_file:\n",
    "                local_file.write(data)\n",
    "    except urllib.error.URLError as e:\n",
    "        print(e)\n",
    "while True :\n",
    "    timeline = api.mentions_timeline(count=1)#count：一度に持ってくるツイートの数\n",
    "    for status in timeline:\n",
    "        status_id = status.id\n",
    "        screen_name = status.author.screen_name\n",
    "        print('user name :{}'.format(screen_name))\n",
    "        inp = status.text\n",
    "        print('message :{}'.format(inp))\n",
    "        save_image()\n",
    "        ''' if '@12shiki_pad' in inp:\n",
    "            print('\\\\\\\\\\\\\\\\\\\\\\\\')\n",
    "            print('to me')'''  \n",
    "    if cnt==15:#リクエスト回数の上限\n",
    "        print('request limit')\n",
    "        break\n",
    "    elif 'end' in inp:#ループ解除用\n",
    "        print('message including end')\n",
    "        break\n",
    "    else:\n",
    "        print('now : {}' .format(cnt))#リクエスト回数の表示\n",
    "        cnt += 1\n",
    "        time.sleep(15)\n",
    "        \n",
    "\n"
   ]
  },
  {
   "cell_type": "code",
   "execution_count": 141,
   "metadata": {},
   "outputs": [
    {
     "name": "stdout",
     "output_type": "stream",
     "text": [
      "name: アキ \n",
      "tweet:@12shiki_pad 最後らへんちょっと意識飛んだ笑\n",
      "39Ra_44No ***************\n",
      "name: 野口拓也 \n",
      "tweet:@12shiki_pad 暇になったら行くわ\n",
      "xxxxxmikke ***************\n",
      "name: アキ \n",
      "tweet:@12shiki_pad 散歩したらやるぞ！\n",
      "39Ra_44No ***************\n",
      "name: きんぐ \n",
      "tweet:@12shiki_pad ついにコントローラー動かんくなった？\n",
      "hibitechking ***************\n",
      "name: いつしき \n",
      "tweet:@12shiki_pad enddu\n",
      "cyberkisi ***************\n",
      "name: いつしき \n",
      "tweet:@12shiki_pad https://t.co/t0fkRvczQl\n",
      "cyberkisi ***************\n",
      "media あり\n",
      "http://pbs.twimg.com/media/EaZtjIiUEAQOAd9.jpg\n"
     ]
    }
   ],
   "source": [
    "def getHomeTimeline():\n",
    "    status = api.home_timeline()\n",
    "    for i in range(0,10):\n",
    "        print(status[i].entities['media'][0]['media_url'])\n",
    "    \n",
    "def getMentionTimeline():\n",
    "    status = []\n",
    "    status = api.mentions_timeline()\n",
    "    for i in range(0,10):\n",
    "        print('name: {} \\ntweet:{}'.format(status[i].user.name,status[i].text))\n",
    "        print('{} ***************'.format(status[i].user.screen_name))\n",
    "        if 'media' in status[i].entities :\n",
    "            print('media あり')\n",
    "            img_url = status[i].entities['media'][0]['media_url']\n",
    "            file =io.BytesIO(urllib.request.urlopen(img_url).read())\n",
    "            img = Image.open(file)\n",
    "            #img.show()\n",
    "            save_img(img_url)\n",
    "            print(img_url)\n",
    "            break\n",
    "    \n",
    "\n",
    "getMentionTimeline()"
   ]
  },
  {
   "cell_type": "code",
   "execution_count": 139,
   "metadata": {},
   "outputs": [],
   "source": [
    "\n",
    "def download_file(url,dst_path):\n",
    "    try:\n",
    "        with urllib.request.urlopen(url) as web_file:\n",
    "            data = web_file.read()\n",
    "            with open(dst_path,mode='wb') as local_file:\n",
    "                local_file.write(data)\n",
    "    except urllib.error.URLError as e:\n",
    "        print(e)\n",
    "\n",
    "def save_img(img_url):\n",
    "    try:\n",
    "        dst_path = 'img/{}.png'.format(cnt)\n",
    "        download_file(img_url,dst_path)\n",
    "        cnt += 1\n",
    "        sleep(1)\n",
    "    except:\n",
    "        pass\n",
    "        "
   ]
  },
  {
   "cell_type": "code",
   "execution_count": 8,
   "metadata": {},
   "outputs": [],
   "source": [
    "\n",
    "\n",
    "url='https://pbs.twimg.com/media/EaY8AZLUcAASDpZ?format=jpg&name=large'\n",
    "\n"
   ]
  },
  {
   "cell_type": "code",
   "execution_count": null,
   "metadata": {},
   "outputs": [],
   "source": [
    "i = 0\n",
    "for result in sarch_results:\n",
    "    try:\n",
    "        img_url = result.extended_entities['media'][0]['media_url']\n",
    "        dst_path = 'img/{}.jpg'.format(i)\n",
    "        download_file(img_url,dst_path)\n",
    "        i += 1\n",
    "        sleep(1)\n",
    "    except:\n",
    "        pass"
   ]
  },
  {
   "cell_type": "code",
   "execution_count": 81,
   "metadata": {},
   "outputs": [
    {
     "name": "stdout",
     "output_type": "stream",
     "text": [
      "name: えろ豆 \n",
      "tweet:自分の中のユウマリの世界線が強すぎてどう頑張っても脳内のクララが失恋しやがるから何とか幸せになるルートを考えてるけど誰かいい女おらんのか……\n",
      "ermame26 ***************\n",
      "name: ミル汰@✌️❤️アマギフ配布枠しますツイキャスにて \n",
      "tweet:今日夜20時から21時の間でアマギフ配布枠します\n",
      "閲覧25人超えたらすぐにします\n",
      "抽選人数は7人です / 今日の抽選会につきまして https://t.co/D5106aoWSm\n",
      "M_I_R_U_T_A ***************\n",
      "name: XV/KIYØ \n",
      "tweet:まじかい、どんな条件だ\n",
      "pazufateff ***************\n",
      "name: 紅シャケ@お仕事募集中 \n",
      "tweet:RT @burningblossom: 「剥かせて!竜ケ崎さん」2巻明日が公式発売日！\n",
      "電子は0時解禁になる…はずです↓\n",
      "https://t.co/uKPR5dOqkt\n",
      "BeniShake ***************\n",
      "name: XV/KIYØ \n",
      "tweet:RT @ApexTimes: 【Apex まとめ】パッチノートを読んでないプレイヤーの末路ｗｗｗ\n",
      "\n",
      "https://t.co/2Q4l7S604U\n",
      "pazufateff ***************\n",
      "name: 巻羊🐑 \n",
      "tweet:RT @huyukisouma: ふぁんあーとまとめ https://t.co/wqBrA1k10b\n",
      "rollsheeeep ***************\n",
      "name: ジェット虚無僧 \n",
      "tweet:今日６月２４日はドレミの日\n",
      "夜な夜な集まりまだまだ現役で行けると確認する少女達とそれを不運にも見てしまったドレミーの４コマ https://t.co/6tZGxycCXt\n",
      "LEXUS_6737 ***************\n",
      "name: ツンデレ娘 \n",
      "tweet:あぺぼしゅう\n",
      "tunderemusume ***************\n",
      "name: は　ㄘ　Ⴋ　⊃　∣ժ̅˝　ㄘ \n",
      "tweet:apex、猿Xっていう意味らしい\n",
      "bachi_8 ***************\n",
      "name: ミル汰@✌️❤️アマギフ配布枠しますツイキャスにて \n",
      "tweet:モイ！PCからキャス配信中 -\n",
      "\n",
      "初見さん大歓迎\n",
      "\n",
      "イケボ配信者の闇、暴露します / 今日の抽選会につきまして https://t.co/D5106aoWSm\n",
      "M_I_R_U_T_A ***************\n"
     ]
    },
    {
     "data": {
      "text/plain": [
       "{'hashtags': [],\n",
       " 'symbols': [],\n",
       " 'user_mentions': [{'screen_name': '12shiki_pad',\n",
       "   'name': 'As',\n",
       "   'id': 2838916952,\n",
       "   'id_str': '2838916952',\n",
       "   'indices': [0, 12]}],\n",
       " 'urls': []}"
      ]
     },
     "execution_count": 81,
     "metadata": {},
     "output_type": "execute_result"
    }
   ],
   "source": [
    "getHomeTimeline()\n",
    "status.entities\n"
   ]
  },
  {
   "cell_type": "code",
   "execution_count": null,
   "metadata": {},
   "outputs": [],
   "source": []
  }
 ],
 "metadata": {
  "kernelspec": {
   "display_name": "Python 3",
   "language": "python",
   "name": "python3"
  },
  "language_info": {
   "codemirror_mode": {
    "name": "ipython",
    "version": 3
   },
   "file_extension": ".py",
   "mimetype": "text/x-python",
   "name": "python",
   "nbconvert_exporter": "python",
   "pygments_lexer": "ipython3",
   "version": "3.7.6"
  }
 },
 "nbformat": 4,
 "nbformat_minor": 4
}

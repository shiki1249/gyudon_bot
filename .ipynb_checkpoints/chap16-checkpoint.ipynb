{
 "cells": [
  {
   "cell_type": "code",
   "execution_count": 1,
   "metadata": {},
   "outputs": [],
   "source": [
    "import numpy as np\n",
    "import matplotlib.pyplot as plt\n",
    "import chainer\n",
    "import chainer.links as L\n",
    "import chainer.functions as F"
   ]
  },
  {
   "cell_type": "code",
   "execution_count": 3,
   "metadata": {},
   "outputs": [],
   "source": [
    "from sklearn.datasets import load_iris\n",
    "\n",
    "dataset = load_iris()\n",
    "\n",
    "x = dataset.data\n",
    "t = dataset.target\n",
    "\n",
    "x = np.array(x,np.float32)\n",
    "t = np.array(t,np.int32)\n",
    "\n"
   ]
  },
  {
   "cell_type": "code",
   "execution_count": 4,
   "metadata": {},
   "outputs": [],
   "source": [
    "from chainer.datasets import TupleDataset\n",
    "\n",
    "dataset = TupleDataset(x, t)"
   ]
  },
  {
   "cell_type": "code",
   "execution_count": 7,
   "metadata": {},
   "outputs": [
    {
     "name": "stdout",
     "output_type": "stream",
     "text": [
      "('Training dataset size:', 105)\n",
      "('Validation dataset size:', 15)\n",
      "('Test dataset size:', 30)\n"
     ]
    }
   ],
   "source": [
    "from chainer.datasets import split_dataset_random\n",
    "\n",
    "n_train = int(len(dataset) * 0.7)\n",
    "n_valid = int(len(dataset) * 0.1)\n",
    "\n",
    "train, valid_test = split_dataset_random(dataset, n_train, seed=0)\n",
    "valid, test = split_dataset_random(valid_test, n_valid, seed=0)\n",
    "\n",
    "print('Training dataset size:', len(train))\n",
    "print('Validation dataset size:', len(valid))\n",
    "print('Test dataset size:', len(test))"
   ]
  },
  {
   "cell_type": "code",
   "execution_count": 8,
   "metadata": {},
   "outputs": [],
   "source": [
    "from chainer import iterators\n",
    "\n",
    "batchsize = 32\n",
    "\n",
    "train_iter = iterators.SerialIterator(train, batchsize)\n",
    "valid_iter = iterators.SerialIterator(valid, batchsize, shuffle=False, repeat=False)\n"
   ]
  },
  {
   "cell_type": "code",
   "execution_count": 9,
   "metadata": {},
   "outputs": [
    {
     "ename": "IndentationError",
     "evalue": "expected an indented block (<ipython-input-9-494d24c7a9c8>, line 7)",
     "output_type": "error",
     "traceback": [
      "\u001b[1;36m  File \u001b[1;32m\"<ipython-input-9-494d24c7a9c8>\"\u001b[1;36m, line \u001b[1;32m7\u001b[0m\n\u001b[1;33m    \u001b[0m\n\u001b[1;37m    ^\u001b[0m\n\u001b[1;31mIndentationError\u001b[0m\u001b[1;31m:\u001b[0m expected an indented block\n"
     ]
    }
   ],
   "source": [
    "class MLP(chainer.Chain):\n",
    "    \n",
    "    def __init__(self, n_mid_units=100, n_out=3):\n",
    "        super().__init__()\n",
    "        \n",
    "        with self.init_scope():\n",
    "            \n",
    "            "
   ]
  },
  {
   "cell_type": "code",
   "execution_count": null,
   "metadata": {},
   "outputs": [],
   "source": []
  }
 ],
 "metadata": {
  "kernelspec": {
   "display_name": "Python 2",
   "language": "python",
   "name": "python2"
  },
  "language_info": {
   "codemirror_mode": {
    "name": "ipython",
    "version": 2
   },
   "file_extension": ".py",
   "mimetype": "text/x-python",
   "name": "python",
   "nbconvert_exporter": "python",
   "pygments_lexer": "ipython2",
   "version": "2.7.16"
  }
 },
 "nbformat": 4,
 "nbformat_minor": 2
}

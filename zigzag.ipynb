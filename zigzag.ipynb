{
 "cells": [
  {
   "cell_type": "code",
   "execution_count": 11,
   "metadata": {},
   "outputs": [
    {
     "name": "stdout",
     "output_type": "stream",
     "text": [
      " 184 249  37  46 246 212 217  90\n",
      " 136  39 143 109  38 119  50   1\n",
      " 170 162 128  60  89  56 138  85\n",
      "   8 114  31  31  66  40   2 199\n",
      "  45 128  49 219 180  89 220 213\n",
      " 177  13 170 158  81 104 203 218\n",
      " 105 118 112 232  34 136  76  25\n",
      "  87  41  31 121 142 104 111 144\n"
     ]
    }
   ],
   "source": [
    "import numpy as np\n",
    "import numpy.random as nr\n",
    "\n",
    "data=nr.randint(0,255,(8,8))\n",
    "\n",
    "for yd in range(8):\n",
    "    for xd in range(8):\n",
    "        print('{:4d}'.format(data[yd,xd]),end='')\n",
    "    print('')"
   ]
  },
  {
   "cell_type": "code",
   "execution_count": 23,
   "metadata": {},
   "outputs": [],
   "source": [
    "data = np.zeros((8,8),np.uint8)\n",
    "for i in range(8):\n",
    "    for j in range(8):\n",
    "        data[i][j] = i*8+j\n",
    "        \n",
    "nu = [nu for nu in range(64)]"
   ]
  },
  {
   "cell_type": "code",
   "execution_count": 98,
   "metadata": {},
   "outputs": [
    {
     "name": "stdout",
     "output_type": "stream",
     "text": [
      "   0   1   5   6  14  15  27  28\n",
      "   2   4   7  13  16  26  29  42\n",
      "   3   8  12  17  25  30  41  43\n",
      "   9  11  18  24  31  40  44  53\n",
      "  10  19  23  32  39  45  52  54\n",
      "  20  22  33  38  46  51  55  60\n",
      "  21  34  37  47  50  56  59  61\n",
      "  35  36  48  49  57  58  62  63\n"
     ]
    }
   ],
   "source": [
    "size = 8\n",
    "q1 = np.zeros((size,size),np.uint8)\n",
    "x = 0\n",
    "y = 0\n",
    "cnt = 0\n",
    "flag = 0\n",
    "\n",
    "for i in range(size**2):\n",
    "    try:\n",
    "        if y == 0 or x == size-1:\n",
    "            q1[y][x] = nu[cnt]\n",
    "            cnt += 1\n",
    "            flag = 0             \n",
    "            if x == size-1:\n",
    "                y += 1        \n",
    "            else :\n",
    "                x +=1\n",
    "\n",
    "        elif x == 0 or y == size-1:\n",
    "            q1[y][x] = nu[cnt] \n",
    "            flag = 1\n",
    "            cnt += 1\n",
    "            if y == size-1:\n",
    "                x += 1\n",
    "            else:\n",
    "                y += 1\n",
    "\n",
    "        if flag == 1:\n",
    "            while True:\n",
    "                q1[y][x] = nu[cnt]\n",
    "                x += 1\n",
    "                y -= 1\n",
    "                cnt += 1\n",
    "                if y == 0 or x == size-1:\n",
    "                    break\n",
    "        elif flag == 0 : \n",
    "            while True:\n",
    "                q1[y][x] = nu[cnt]\n",
    "                x -= 1\n",
    "                y += 1\n",
    "                cnt += 1\n",
    "                if x == 0 or y == size-1:\n",
    "                    break\n",
    "    except:\n",
    "        pass\n",
    "    \n",
    "for yd in range(size):\n",
    "    for xd in range(size):\n",
    "        print('{:4d}'.format(q1[yd,xd]),end='')\n",
    "    print('')"
   ]
  },
  {
   "cell_type": "code",
   "execution_count": null,
   "metadata": {},
   "outputs": [],
   "source": []
  }
 ],
 "metadata": {
  "kernelspec": {
   "display_name": "Python 3",
   "language": "python",
   "name": "python3"
  },
  "language_info": {
   "codemirror_mode": {
    "name": "ipython",
    "version": 3
   },
   "file_extension": ".py",
   "mimetype": "text/x-python",
   "name": "python",
   "nbconvert_exporter": "python",
   "pygments_lexer": "ipython3",
   "version": "3.7.7"
  }
 },
 "nbformat": 4,
 "nbformat_minor": 4
}

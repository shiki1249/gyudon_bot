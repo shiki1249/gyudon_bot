{
 "cells": [
  {
   "cell_type": "code",
   "execution_count": 2,
   "metadata": {},
   "outputs": [],
   "source": [
    "import glob\n",
    "import cv2\n",
    "import matplotlib.pyplot as plt\n",
    "import numpy as np\n",
    "import pandas as pd\n",
    "from matplotlib.patches import Polygon\n",
    "import datetime"
   ]
  },
  {
   "cell_type": "code",
   "execution_count": 3,
   "metadata": {},
   "outputs": [
    {
     "name": "stdout",
     "output_type": "stream",
     "text": [
      "somthing error\n"
     ]
    }
   ],
   "source": [
    "def draw_contours_C(file_name,in_dir_name):\n",
    "    global img\n",
    "    try:\n",
    "        img = cv2.imread(file_name)\n",
    "    except:\n",
    "        return None\n",
    "\n",
    "    # 2値化\n",
    "    gray = cv2.cvtColor(img, cv2.COLOR_BGR2GRAY)\n",
    "    ret, binary = cv2.threshold(gray, 0, 255, cv2.THRESH_BINARY_INV + cv2.THRESH_OTSU)\n",
    "    kernel = cv2.getStructuringElement(cv2.MORPH_ELLIPSE, (5, 5))\n",
    "    binary = cv2.dilate(binary, kernel)\n",
    "        # 輪郭抽出\n",
    "    contours, hierarchy = cv2.findContours(binary, cv2.RETR_EXTERNAL, cv2.CHAIN_APPROX_SIMPLE)\n",
    "        # 一番面積が大きい輪郭を抽出\n",
    "    target_contour = max(contours, key=lambda x: cv2.contourArea(x))\n",
    "\n",
    "    fig, ax = plt.subplots(figsize=(8, 8))\n",
    "    ax.imshow(img)\n",
    "    ax.set_axis_off()\n",
    "\n",
    "    for i, cnt in enumerate(contours):\n",
    "        if cv2.contourArea(cnt) < 500:\n",
    "            continue\n",
    "    else:\n",
    "        cnt = cnt.squeeze(axis=1)\n",
    "        ax.add_patch(Polygon(cnt, color=\"b\", fill=None, lw=2))\n",
    "        ax.plot(cnt[:, 0], cnt[:, 1], \"ro\", mew=0, ms=4)\n",
    "        ax.text(cnt[0][0], cnt[0][1], i, color=\"orange\", size=\"20\")     \n",
    "    plt.close()\n",
    "        # 輪郭を構成する点を CSV に保存する。\n",
    "    buf_np = target_contour.squeeze(axis=1).flatten()\n",
    "    x_list = []\n",
    "    y_list = []\n",
    "    for i, elem in enumerate(buf_np):\n",
    "        if i%2==0:\n",
    "            x_list.append(elem)\n",
    "        else:\n",
    "            y_list.append(elem*(-1))    \n",
    "    # pandasのSeries型へ一旦変換  \n",
    "    x_df = pd.Series(x_list)\n",
    "    y_df = pd.Series(y_list)\n",
    "    # pandasのDataFrame型へ結合と共に、列名も加えて変換\n",
    "    DF = pd.concat((x_df.rename(r'#X'), y_df.rename('Y')), axis=1, sort=False)\n",
    "    if in_dir_name != None:\n",
    "        csv_name = file_name.replace('original','img_crop\\\\contour_csv{}'.format(os.path.splitext(os.path.basename(in_dir_name))[1]))\n",
    "        csv_name = csv_name.replace('.jpg','.csv')\n",
    "    else:\n",
    "        csv_name = file_name.replace('.jpg','.csv')\n",
    "    DF.to_csv(csv_name, encoding=\"utf-8\", index=False)\n",
    "    return csv_name\n",
    "def cal_maxmin(csv_file):\n",
    "    with open(csv_file) as f:\n",
    "        reader = csv.reader(f)\n",
    "        l = [row for row in reader]\n",
    "    l = l[1:]\n",
    "    l = [list(a) for a in zip(*l)]\n",
    "\n",
    "    x_axis = l[0]\n",
    "    y_axis = l[1]\n",
    "    x_axis = [int(x) for x in x_axis]\n",
    "    y_axis = [int(y) for y in y_axis]\n",
    "    ex_val = [min(x_axis),max(y_axis),max(x_axis),min(y_axis)]#x_max,x_min,y_max,y_min\n",
    "    ex_val = [abs(val) for val in ex_val]\n",
    "    return ex_val\n",
    "csv = draw_contours_C('DeepLearning\\\\eval\\eval2.jpg',None)\n"
   ]
  },
  {
   "cell_type": "code",
   "execution_count": null,
   "metadata": {},
   "outputs": [],
   "source": []
  }
 ],
 "metadata": {
  "kernelspec": {
   "display_name": "Python 3",
   "language": "python",
   "name": "python3"
  },
  "language_info": {
   "codemirror_mode": {
    "name": "ipython",
    "version": 3
   },
   "file_extension": ".py",
   "mimetype": "text/x-python",
   "name": "python",
   "nbconvert_exporter": "python",
   "pygments_lexer": "ipython3",
   "version": "3.7.7"
  }
 },
 "nbformat": 4,
 "nbformat_minor": 4
}
